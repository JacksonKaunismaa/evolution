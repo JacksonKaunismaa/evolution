{
 "cells": [
  {
   "cell_type": "code",
   "execution_count": 1,
   "metadata": {},
   "outputs": [],
   "source": [
    "import numpy as np\n",
    "from numba import cuda\n",
    "\n",
    "from evolution import world\n",
    "\n",
    "%load_ext autoreload\n",
    "%autoreload 2"
   ]
  },
  {
   "cell_type": "code",
   "execution_count": null,
   "metadata": {},
   "outputs": [],
   "source": [
    "@cuda.jit('void(int32[:], int32[:])')\n",
    "def base(x, y):\n",
    "    i = cuda.threadIdx.x\n",
    "    y[i] = x[i] + 1\n",
    "\n",
    "t = np.arange(16).astype(np.int32)\n",
    "z = np.zeros_like(t)\n",
    "print(t.dtype)\n",
    "print(z)\n",
    "base[1, 20](t, z)\n",
    "print(z)\n",
    "base[1, 20](z, z)\n",
    "print(z)"
   ]
  },
  {
   "cell_type": "code",
   "execution_count": 14,
   "metadata": {},
   "outputs": [
    {
     "name": "stdout",
     "output_type": "stream",
     "text": [
      "float32 (4, 8, 3) float32 (4, 4) float32 (4, 8, 1)\n"
     ]
    }
   ],
   "source": [
    "world.main()"
   ]
  },
  {
   "cell_type": "markdown",
   "metadata": {},
   "source": [
    "# Numba vs. Pytorch speed"
   ]
  },
  {
   "cell_type": "code",
   "execution_count": 2,
   "metadata": {},
   "outputs": [],
   "source": [
    "from numba import cuda, float32\n",
    "\n",
    "# Controls threads per block and shared memory usage.\n",
    "# The computation will be done on blocks of TPBxTPB elements.\n",
    "TPB = 16\n",
    "\n",
    "@cuda.jit\n",
    "def fast_matmul(A, B, C):\n",
    "    # Define an array in the shared memory\n",
    "    # The size and type of the arrays must be known at compile time\n",
    "    sA = cuda.shared.array(shape=(TPB, TPB), dtype=float32)\n",
    "    sB = cuda.shared.array(shape=(TPB, TPB), dtype=float32)\n",
    "\n",
    "    x, y = cuda.grid(2)\n",
    "\n",
    "    tx = cuda.threadIdx.x\n",
    "    ty = cuda.threadIdx.y\n",
    "    bpg = cuda.gridDim.x    # blocks per grid\n",
    "\n",
    "    if x >= C.shape[0] and y >= C.shape[1]:\n",
    "        # Quit if (x, y) is outside of valid C boundary\n",
    "        return\n",
    "\n",
    "    # Each thread computes one element in the result matrix.\n",
    "    # The dot product is chunked into dot products of TPB-long vectors.\n",
    "    tmp = 0.\n",
    "    for i in range(bpg):\n",
    "        # Preload data into shared memory\n",
    "        sA[tx, ty] = A[x, ty + i * TPB]\n",
    "        sB[tx, ty] = B[tx + i * TPB, y]\n",
    "\n",
    "        # Wait until all threads finish preloading\n",
    "        cuda.syncthreads()\n",
    "\n",
    "        # Computes partial product on the shared memory\n",
    "        for j in range(TPB):\n",
    "            tmp += sA[tx, j] * sB[j, ty]\n",
    "\n",
    "        # Wait until all threads finish computing\n",
    "        cuda.syncthreads()\n",
    "\n",
    "    C[x, y] = tmp"
   ]
  },
  {
   "cell_type": "code",
   "execution_count": 3,
   "metadata": {},
   "outputs": [
    {
     "name": "stderr",
     "output_type": "stream",
     "text": [
      "/home/rob/anaconda3/envs/jack/lib/python3.10/site-packages/numba/cuda/dispatcher.py:536: NumbaPerformanceWarning: \u001b[1mGrid size 4 will likely result in GPU under-utilization due to low occupancy.\u001b[0m\n",
      "  warn(NumbaPerformanceWarning(msg))\n",
      "100%|██████████| 1000/1000 [00:00<00:00, 22443.72it/s]\n",
      "100%|██████████| 1000/1000 [00:00<00:00, 113614.43it/s]\n",
      "/home/rob/anaconda3/envs/jack/lib/python3.10/site-packages/numba/cuda/dispatcher.py:536: NumbaPerformanceWarning: \u001b[1mGrid size 16 will likely result in GPU under-utilization due to low occupancy.\u001b[0m\n",
      "  warn(NumbaPerformanceWarning(msg))\n",
      "100%|██████████| 1000/1000 [00:00<00:00, 23687.13it/s]\n",
      "100%|██████████| 1000/1000 [00:00<00:00, 114389.07it/s]\n",
      "/home/rob/anaconda3/envs/jack/lib/python3.10/site-packages/numba/cuda/dispatcher.py:536: NumbaPerformanceWarning: \u001b[1mGrid size 64 will likely result in GPU under-utilization due to low occupancy.\u001b[0m\n",
      "  warn(NumbaPerformanceWarning(msg))\n",
      "100%|██████████| 1000/1000 [00:00<00:00, 23130.65it/s]\n",
      "100%|██████████| 1000/1000 [00:00<00:00, 119751.72it/s]\n",
      "100%|██████████| 1000/1000 [00:00<00:00, 23464.24it/s]\n",
      "100%|██████████| 1000/1000 [00:00<00:00, 99814.47it/s]\n",
      "100%|██████████| 1000/1000 [00:00<00:00, 23372.20it/s]\n",
      "100%|██████████| 1000/1000 [00:00<00:00, 124382.55it/s]\n",
      "100%|██████████| 1000/1000 [00:00<00:00, 23541.42it/s]\n",
      "100%|██████████| 1000/1000 [00:00<00:00, 31081.58it/s]\n",
      "100%|██████████| 1000/1000 [00:00<00:00, 23598.51it/s]\n",
      "100%|██████████| 1000/1000 [00:00<00:00, 111128.00it/s]\n",
      "100%|██████████| 1000/1000 [00:00<00:00, 23237.78it/s]\n",
      "100%|██████████| 1000/1000 [00:00<00:00, 110913.48it/s]\n"
     ]
    },
    {
     "data": {
      "text/plain": [
       "<matplotlib.legend.Legend at 0x746751fa98d0>"
      ]
     },
     "execution_count": 3,
     "metadata": {},
     "output_type": "execute_result"
    },
    {
     "data": {
      "image/png": "[encoded data removed]",
      "text/plain": [
       "<Figure size 640x480 with 1 Axes>"
      ]
     },
     "metadata": {},
     "output_type": "display_data"
    }
   ],
   "source": [
    "import torch\n",
    "torch.set_grad_enabled(False)\n",
    "import time\n",
    "import matplotlib.pyplot as plt\n",
    "from tqdm import trange\n",
    "\n",
    "@torch.no_grad()\n",
    "def trial(size):\n",
    "    x = np.random.rand(size, size).astype(np.float32)\n",
    "    y = np.random.rand(size, size).astype(np.float32)\n",
    "    z = np.zeros((size, size)).astype(np.float32)\n",
    "\n",
    "    d_x = cuda.to_device(x)\n",
    "    d_y = cuda.to_device(y)\n",
    "    d_z = cuda.to_device(z)\n",
    "\n",
    "    t_x = torch.from_numpy(x).cuda()\n",
    "    t_y = torch.from_numpy(y).cuda()\n",
    "\n",
    "    threadsperblock = (TPB, TPB)\n",
    "    blockspergrid_x = int(np.ceil(x.shape[0] / threadsperblock[0]))\n",
    "    blockspergrid_y = int(np.ceil(y.shape[1] / threadsperblock[1]))\n",
    "    blockspergrid = (blockspergrid_x, blockspergrid_y)\n",
    "    # print(blockspergrid, threadsperblock)\n",
    "    fast_matmul[blockspergrid, threadsperblock](d_x, d_y, d_z)\n",
    "    # np_res = x @ y\n",
    "    torch_res = t_x @ t_y\n",
    "    # print((torch_res*100).int())\n",
    "    # # print(np_res)\n",
    "    # # print(z)\n",
    "    # print((d_z.copy_to_host()*100).astype(np.int32))\n",
    "    # print(((d_z.copy_to_host() - torch_res.cpu().numpy())**2).sum())\n",
    "    # return\n",
    "\n",
    "    trials = 1_000\n",
    "    res = {}\n",
    "\n",
    "    start = cuda.event(timing=True)\n",
    "    end = cuda.event(timing=True)\n",
    "    start.record()\n",
    "    for _ in trange(trials):\n",
    "        fast_matmul[blockspergrid, threadsperblock](d_x, d_y, d_z)\n",
    "    cuda.synchronize()\n",
    "    end.record()\n",
    "    end.synchronize()\n",
    "    res['numba'] = cuda.event_elapsed_time(start, end)\n",
    "\n",
    "    # start = time.time()\n",
    "    # for _ in trange(trials):\n",
    "    #     x @ y\n",
    "    # res['numpy'] = time.time() - start\n",
    "\n",
    "    start = torch.cuda.Event(enable_timing=True)\n",
    "    end = torch.cuda.Event(enable_timing=True)\n",
    "    start.record()\n",
    "    for _ in trange(trials):\n",
    "        t_x @ t_y\n",
    "    end.record()\n",
    "    torch.cuda.synchronize()\n",
    "    res['torch'] = start.elapsed_time(end)\n",
    "\n",
    "    return res\n",
    "\n",
    "full_res = {'numba': [], 'torch': []}#, 'numpy': []}\n",
    "for size in [32, 64, 128, 256, 512, 1024, 2048, 4096]:\n",
    "    res = trial(size)\n",
    "    for key in res:\n",
    "        full_res[key].append(res[key])\n",
    "\n",
    "plt.plot(full_res['numba'], label='numba')\n",
    "# plt.plot(full_res['numpy'], label='numpy')\n",
    "plt.plot(full_res['torch'], label='torch')\n",
    "plt.yscale('log')\n",
    "plt.xscale('log')\n",
    "plt.legend()"
   ]
  },
  {
   "cell_type": "code",
   "execution_count": 5,
   "metadata": {},
   "outputs": [
    {
     "data": {
      "text/plain": [
       "{'numba': [46.73030471801758,\n",
       "  43.433982849121094,\n",
       "  44.609535217285156,\n",
       "  68.57686614990234,\n",
       "  459.62384033203125,\n",
       "  3553.339599609375,\n",
       "  28329.9921875,\n",
       "  226221.890625],\n",
       " 'torch': [10.38640022277832,\n",
       "  9.923583984375,\n",
       "  9.5065279006958,\n",
       "  11.000767707824707,\n",
       "  11.745087623596191,\n",
       "  65.47110748291016,\n",
       "  303.6805114746094,\n",
       "  2544.28076171875]}"
      ]
     },
     "execution_count": 5,
     "metadata": {},
     "output_type": "execute_result"
    }
   ],
   "source": [
    "full_res"
   ]
  }
 ],
 "metadata": {
  "kernelspec": {
   "display_name": "Python 3 (ipykernel)",
   "language": "python",
   "name": "python3"
  },
  "language_info": {
   "codemirror_mode": {
    "name": "ipython",
    "version": 3
   },
   "file_extension": ".py",
   "mimetype": "text/x-python",
   "name": "python",
   "nbconvert_exporter": "python",
   "pygments_lexer": "ipython3",
   "version": "3.10.8"
  }
 },
 "nbformat": 4,
 "nbformat_minor": 2
}
