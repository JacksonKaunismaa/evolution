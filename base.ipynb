{
 "cells": [
  {
   "cell_type": "code",
   "execution_count": 1,
   "metadata": {},
   "outputs": [],
   "source": [
    "import numpy as np\n",
    "from numba import cuda\n",
    "\n",
    "from evolution import world\n",
    "\n",
    "%load_ext autoreload\n",
    "%autoreload 2"
   ]
  },
  {
   "cell_type": "code",
   "execution_count": null,
   "metadata": {},
   "outputs": [],
   "source": [
    "@cuda.jit('void(int32[:], int32[:])')\n",
    "def base(x, y):\n",
    "    i = cuda.threadIdx.x\n",
    "    y[i] = x[i] + 1\n",
    "\n",
    "t = np.arange(16).astype(np.int32)\n",
    "z = np.zeros_like(t)\n",
    "print(t.dtype)\n",
    "print(z)\n",
    "base[1, 20](t, z)\n",
    "print(z)\n",
    "base[1, 20](z, z)\n",
    "print(z)"
   ]
  },
  {
   "cell_type": "code",
   "execution_count": 14,
   "metadata": {},
   "outputs": [
    {
     "name": "stdout",
     "output_type": "stream",
     "text": [
      "float32 (4, 8, 3) float32 (4, 4) float32 (4, 8, 1)\n"
     ]
    }
   ],
   "source": [
    "world.main()"
   ]
  }
 ],
 "metadata": {
  "kernelspec": {
   "display_name": "Python 3 (ipykernel)",
   "language": "python",
   "name": "python3"
  },
  "language_info": {
   "codemirror_mode": {
    "name": "ipython",
    "version": 3
   },
   "file_extension": ".py",
   "mimetype": "text/x-python",
   "name": "python",
   "nbconvert_exporter": "python",
   "pygments_lexer": "ipython3",
   "version": "3.10.8"
  }
 },
 "nbformat": 4,
 "nbformat_minor": 2
}
